{
 "cells": [
  {
   "cell_type": "code",
   "execution_count": 32,
   "metadata": {},
   "outputs": [],
   "source": [
    "# machine learning classification\n",
    "from sklearn.svm import SVC\n",
    "from sklearn.metrics import accuracy_score\n",
    "\n",
    "# For data manipulation\n",
    "\n",
    "import pandas as pd\n",
    "import numpy as np\n",
    "# To plot\n",
    "\n",
    "import matplotlib.pyplot as plt\n",
    "import seaborn\n",
    "\n"
   ]
  },
  {
   "cell_type": "code",
   "execution_count": 33,
   "metadata": {},
   "outputs": [
    {
     "name": "stdout",
     "output_type": "stream",
     "text": [
      "[*********************100%***********************]  1 of 1 completed\n"
     ]
    }
   ],
   "source": [
    "import yfinance as yf\n",
    "\n",
    "df = yf.download(\"USDBRL=X\", start=\"2016-01-01\")\n",
    "#df = df.dropna()\n",
    "#df.Close.plot(figsize=(10,5))\n",
    "#plt.ylabel(\"USD/BRL\")\n",
    "#plt.show()\n"
   ]
  },
  {
   "cell_type": "code",
   "execution_count": 34,
   "metadata": {},
   "outputs": [
    {
     "data": {
      "text/html": [
       "<div>\n",
       "<style scoped>\n",
       "    .dataframe tbody tr th:only-of-type {\n",
       "        vertical-align: middle;\n",
       "    }\n",
       "\n",
       "    .dataframe tbody tr th {\n",
       "        vertical-align: top;\n",
       "    }\n",
       "\n",
       "    .dataframe thead th {\n",
       "        text-align: right;\n",
       "    }\n",
       "</style>\n",
       "<table border=\"1\" class=\"dataframe\">\n",
       "  <thead>\n",
       "    <tr style=\"text-align: right;\">\n",
       "      <th></th>\n",
       "      <th>Open</th>\n",
       "      <th>High</th>\n",
       "      <th>Low</th>\n",
       "      <th>Close</th>\n",
       "      <th>Adj Close</th>\n",
       "      <th>Volume</th>\n",
       "    </tr>\n",
       "    <tr>\n",
       "      <th>Date</th>\n",
       "      <th></th>\n",
       "      <th></th>\n",
       "      <th></th>\n",
       "      <th></th>\n",
       "      <th></th>\n",
       "      <th></th>\n",
       "    </tr>\n",
       "  </thead>\n",
       "  <tbody>\n",
       "    <tr>\n",
       "      <th>2016-01-01</th>\n",
       "      <td>3.950000</td>\n",
       "      <td>3.9500</td>\n",
       "      <td>3.950000</td>\n",
       "      <td>3.950000</td>\n",
       "      <td>3.950000</td>\n",
       "      <td>0</td>\n",
       "    </tr>\n",
       "    <tr>\n",
       "      <th>2016-01-04</th>\n",
       "      <td>3.960500</td>\n",
       "      <td>4.0594</td>\n",
       "      <td>3.955700</td>\n",
       "      <td>3.949100</td>\n",
       "      <td>3.949100</td>\n",
       "      <td>0</td>\n",
       "    </tr>\n",
       "    <tr>\n",
       "      <th>2016-01-05</th>\n",
       "      <td>4.037100</td>\n",
       "      <td>4.0531</td>\n",
       "      <td>3.995700</td>\n",
       "      <td>4.037300</td>\n",
       "      <td>4.037300</td>\n",
       "      <td>0</td>\n",
       "    </tr>\n",
       "    <tr>\n",
       "      <th>2016-01-06</th>\n",
       "      <td>4.027100</td>\n",
       "      <td>4.0505</td>\n",
       "      <td>4.006000</td>\n",
       "      <td>4.026900</td>\n",
       "      <td>4.026900</td>\n",
       "      <td>0</td>\n",
       "    </tr>\n",
       "    <tr>\n",
       "      <th>2016-01-07</th>\n",
       "      <td>4.020900</td>\n",
       "      <td>4.0687</td>\n",
       "      <td>4.018400</td>\n",
       "      <td>4.019900</td>\n",
       "      <td>4.019900</td>\n",
       "      <td>0</td>\n",
       "    </tr>\n",
       "    <tr>\n",
       "      <th>...</th>\n",
       "      <td>...</td>\n",
       "      <td>...</td>\n",
       "      <td>...</td>\n",
       "      <td>...</td>\n",
       "      <td>...</td>\n",
       "      <td>...</td>\n",
       "    </tr>\n",
       "    <tr>\n",
       "      <th>2022-01-06</th>\n",
       "      <td>5.707700</td>\n",
       "      <td>5.7218</td>\n",
       "      <td>5.682800</td>\n",
       "      <td>5.705635</td>\n",
       "      <td>5.705635</td>\n",
       "      <td>0</td>\n",
       "    </tr>\n",
       "    <tr>\n",
       "      <th>2022-01-07</th>\n",
       "      <td>5.680289</td>\n",
       "      <td>5.7069</td>\n",
       "      <td>5.619900</td>\n",
       "      <td>5.682400</td>\n",
       "      <td>5.682400</td>\n",
       "      <td>0</td>\n",
       "    </tr>\n",
       "    <tr>\n",
       "      <th>2022-01-10</th>\n",
       "      <td>5.632000</td>\n",
       "      <td>5.6895</td>\n",
       "      <td>5.624600</td>\n",
       "      <td>5.632200</td>\n",
       "      <td>5.632200</td>\n",
       "      <td>0</td>\n",
       "    </tr>\n",
       "    <tr>\n",
       "      <th>2022-01-11</th>\n",
       "      <td>5.662100</td>\n",
       "      <td>5.6730</td>\n",
       "      <td>5.581573</td>\n",
       "      <td>5.662200</td>\n",
       "      <td>5.662200</td>\n",
       "      <td>0</td>\n",
       "    </tr>\n",
       "    <tr>\n",
       "      <th>2022-01-12</th>\n",
       "      <td>5.587800</td>\n",
       "      <td>5.5999</td>\n",
       "      <td>5.546200</td>\n",
       "      <td>5.558700</td>\n",
       "      <td>5.558700</td>\n",
       "      <td>0</td>\n",
       "    </tr>\n",
       "  </tbody>\n",
       "</table>\n",
       "<p>1571 rows × 6 columns</p>\n",
       "</div>"
      ],
      "text/plain": [
       "                Open    High       Low     Close  Adj Close  Volume\n",
       "Date                                                               \n",
       "2016-01-01  3.950000  3.9500  3.950000  3.950000   3.950000       0\n",
       "2016-01-04  3.960500  4.0594  3.955700  3.949100   3.949100       0\n",
       "2016-01-05  4.037100  4.0531  3.995700  4.037300   4.037300       0\n",
       "2016-01-06  4.027100  4.0505  4.006000  4.026900   4.026900       0\n",
       "2016-01-07  4.020900  4.0687  4.018400  4.019900   4.019900       0\n",
       "...              ...     ...       ...       ...        ...     ...\n",
       "2022-01-06  5.707700  5.7218  5.682800  5.705635   5.705635       0\n",
       "2022-01-07  5.680289  5.7069  5.619900  5.682400   5.682400       0\n",
       "2022-01-10  5.632000  5.6895  5.624600  5.632200   5.632200       0\n",
       "2022-01-11  5.662100  5.6730  5.581573  5.662200   5.662200       0\n",
       "2022-01-12  5.587800  5.5999  5.546200  5.558700   5.558700       0\n",
       "\n",
       "[1571 rows x 6 columns]"
      ]
     },
     "execution_count": 34,
     "metadata": {},
     "output_type": "execute_result"
    }
   ],
   "source": [
    "df"
   ]
  },
  {
   "cell_type": "code",
   "execution_count": 35,
   "metadata": {},
   "outputs": [],
   "source": [
    "# Create Features\n",
    "df[\"Open-Close\"] = df.Open - df.Close\n",
    "df[\"High-Low\"] = df.High - df.Low\n",
    "df[\"Retorno\"] = np.log(df[\"Close\"]/df[\"Close\"].shift(1))\n",
    "# Drop Nan values\n",
    "df.dropna(inplace=True)\n",
    "X=df[[\"Open-Close\",\"High-Low\",\"Retorno\"]]#.dropna()\n",
    "\n",
    "#X = df.dropna(inplace=True)\n",
    "\n",
    "# Target Variable\n",
    "Y = np.where(df[\"Close\"].shift(-1) > df[\"Close\"],1,-1)\n",
    "\n",
    "#df[\"Signal\"] = df[\"Close\"].shift(-1)"
   ]
  },
  {
   "cell_type": "code",
   "execution_count": 36,
   "metadata": {},
   "outputs": [
    {
     "data": {
      "text/html": [
       "<div>\n",
       "<style scoped>\n",
       "    .dataframe tbody tr th:only-of-type {\n",
       "        vertical-align: middle;\n",
       "    }\n",
       "\n",
       "    .dataframe tbody tr th {\n",
       "        vertical-align: top;\n",
       "    }\n",
       "\n",
       "    .dataframe thead th {\n",
       "        text-align: right;\n",
       "    }\n",
       "</style>\n",
       "<table border=\"1\" class=\"dataframe\">\n",
       "  <thead>\n",
       "    <tr style=\"text-align: right;\">\n",
       "      <th></th>\n",
       "      <th>Open</th>\n",
       "      <th>High</th>\n",
       "      <th>Low</th>\n",
       "      <th>Close</th>\n",
       "      <th>Adj Close</th>\n",
       "      <th>Volume</th>\n",
       "      <th>Open-Close</th>\n",
       "      <th>High-Low</th>\n",
       "      <th>Retorno</th>\n",
       "    </tr>\n",
       "    <tr>\n",
       "      <th>Date</th>\n",
       "      <th></th>\n",
       "      <th></th>\n",
       "      <th></th>\n",
       "      <th></th>\n",
       "      <th></th>\n",
       "      <th></th>\n",
       "      <th></th>\n",
       "      <th></th>\n",
       "      <th></th>\n",
       "    </tr>\n",
       "  </thead>\n",
       "  <tbody>\n",
       "    <tr>\n",
       "      <th>2016-01-04</th>\n",
       "      <td>3.960500</td>\n",
       "      <td>4.0594</td>\n",
       "      <td>3.955700</td>\n",
       "      <td>3.949100</td>\n",
       "      <td>3.949100</td>\n",
       "      <td>0</td>\n",
       "      <td>0.011400</td>\n",
       "      <td>0.103700</td>\n",
       "      <td>-0.000228</td>\n",
       "    </tr>\n",
       "    <tr>\n",
       "      <th>2016-01-05</th>\n",
       "      <td>4.037100</td>\n",
       "      <td>4.0531</td>\n",
       "      <td>3.995700</td>\n",
       "      <td>4.037300</td>\n",
       "      <td>4.037300</td>\n",
       "      <td>0</td>\n",
       "      <td>-0.000200</td>\n",
       "      <td>0.057400</td>\n",
       "      <td>0.022088</td>\n",
       "    </tr>\n",
       "    <tr>\n",
       "      <th>2016-01-06</th>\n",
       "      <td>4.027100</td>\n",
       "      <td>4.0505</td>\n",
       "      <td>4.006000</td>\n",
       "      <td>4.026900</td>\n",
       "      <td>4.026900</td>\n",
       "      <td>0</td>\n",
       "      <td>0.000200</td>\n",
       "      <td>0.044500</td>\n",
       "      <td>-0.002579</td>\n",
       "    </tr>\n",
       "    <tr>\n",
       "      <th>2016-01-07</th>\n",
       "      <td>4.020900</td>\n",
       "      <td>4.0687</td>\n",
       "      <td>4.018400</td>\n",
       "      <td>4.019900</td>\n",
       "      <td>4.019900</td>\n",
       "      <td>0</td>\n",
       "      <td>0.001000</td>\n",
       "      <td>0.050300</td>\n",
       "      <td>-0.001740</td>\n",
       "    </tr>\n",
       "    <tr>\n",
       "      <th>2016-01-08</th>\n",
       "      <td>4.041700</td>\n",
       "      <td>4.0434</td>\n",
       "      <td>4.002200</td>\n",
       "      <td>4.041500</td>\n",
       "      <td>4.041500</td>\n",
       "      <td>0</td>\n",
       "      <td>0.000200</td>\n",
       "      <td>0.041200</td>\n",
       "      <td>0.005359</td>\n",
       "    </tr>\n",
       "    <tr>\n",
       "      <th>...</th>\n",
       "      <td>...</td>\n",
       "      <td>...</td>\n",
       "      <td>...</td>\n",
       "      <td>...</td>\n",
       "      <td>...</td>\n",
       "      <td>...</td>\n",
       "      <td>...</td>\n",
       "      <td>...</td>\n",
       "      <td>...</td>\n",
       "    </tr>\n",
       "    <tr>\n",
       "      <th>2022-01-06</th>\n",
       "      <td>5.707700</td>\n",
       "      <td>5.7218</td>\n",
       "      <td>5.682800</td>\n",
       "      <td>5.705635</td>\n",
       "      <td>5.705635</td>\n",
       "      <td>0</td>\n",
       "      <td>0.002065</td>\n",
       "      <td>0.039000</td>\n",
       "      <td>0.005172</td>\n",
       "    </tr>\n",
       "    <tr>\n",
       "      <th>2022-01-07</th>\n",
       "      <td>5.680289</td>\n",
       "      <td>5.7069</td>\n",
       "      <td>5.619900</td>\n",
       "      <td>5.682400</td>\n",
       "      <td>5.682400</td>\n",
       "      <td>0</td>\n",
       "      <td>-0.002111</td>\n",
       "      <td>0.087000</td>\n",
       "      <td>-0.004081</td>\n",
       "    </tr>\n",
       "    <tr>\n",
       "      <th>2022-01-10</th>\n",
       "      <td>5.632000</td>\n",
       "      <td>5.6895</td>\n",
       "      <td>5.624600</td>\n",
       "      <td>5.632200</td>\n",
       "      <td>5.632200</td>\n",
       "      <td>0</td>\n",
       "      <td>-0.000200</td>\n",
       "      <td>0.064900</td>\n",
       "      <td>-0.008874</td>\n",
       "    </tr>\n",
       "    <tr>\n",
       "      <th>2022-01-11</th>\n",
       "      <td>5.662100</td>\n",
       "      <td>5.6730</td>\n",
       "      <td>5.581573</td>\n",
       "      <td>5.662200</td>\n",
       "      <td>5.662200</td>\n",
       "      <td>0</td>\n",
       "      <td>-0.000100</td>\n",
       "      <td>0.091427</td>\n",
       "      <td>0.005312</td>\n",
       "    </tr>\n",
       "    <tr>\n",
       "      <th>2022-01-12</th>\n",
       "      <td>5.587800</td>\n",
       "      <td>5.5999</td>\n",
       "      <td>5.546200</td>\n",
       "      <td>5.558700</td>\n",
       "      <td>5.558700</td>\n",
       "      <td>0</td>\n",
       "      <td>0.029100</td>\n",
       "      <td>0.053700</td>\n",
       "      <td>-0.018448</td>\n",
       "    </tr>\n",
       "  </tbody>\n",
       "</table>\n",
       "<p>1570 rows × 9 columns</p>\n",
       "</div>"
      ],
      "text/plain": [
       "                Open    High       Low     Close  Adj Close  Volume  \\\n",
       "Date                                                                  \n",
       "2016-01-04  3.960500  4.0594  3.955700  3.949100   3.949100       0   \n",
       "2016-01-05  4.037100  4.0531  3.995700  4.037300   4.037300       0   \n",
       "2016-01-06  4.027100  4.0505  4.006000  4.026900   4.026900       0   \n",
       "2016-01-07  4.020900  4.0687  4.018400  4.019900   4.019900       0   \n",
       "2016-01-08  4.041700  4.0434  4.002200  4.041500   4.041500       0   \n",
       "...              ...     ...       ...       ...        ...     ...   \n",
       "2022-01-06  5.707700  5.7218  5.682800  5.705635   5.705635       0   \n",
       "2022-01-07  5.680289  5.7069  5.619900  5.682400   5.682400       0   \n",
       "2022-01-10  5.632000  5.6895  5.624600  5.632200   5.632200       0   \n",
       "2022-01-11  5.662100  5.6730  5.581573  5.662200   5.662200       0   \n",
       "2022-01-12  5.587800  5.5999  5.546200  5.558700   5.558700       0   \n",
       "\n",
       "            Open-Close  High-Low   Retorno  \n",
       "Date                                        \n",
       "2016-01-04    0.011400  0.103700 -0.000228  \n",
       "2016-01-05   -0.000200  0.057400  0.022088  \n",
       "2016-01-06    0.000200  0.044500 -0.002579  \n",
       "2016-01-07    0.001000  0.050300 -0.001740  \n",
       "2016-01-08    0.000200  0.041200  0.005359  \n",
       "...                ...       ...       ...  \n",
       "2022-01-06    0.002065  0.039000  0.005172  \n",
       "2022-01-07   -0.002111  0.087000 -0.004081  \n",
       "2022-01-10   -0.000200  0.064900 -0.008874  \n",
       "2022-01-11   -0.000100  0.091427  0.005312  \n",
       "2022-01-12    0.029100  0.053700 -0.018448  \n",
       "\n",
       "[1570 rows x 9 columns]"
      ]
     },
     "execution_count": 36,
     "metadata": {},
     "output_type": "execute_result"
    }
   ],
   "source": [
    "df"
   ]
  },
  {
   "cell_type": "code",
   "execution_count": 37,
   "metadata": {},
   "outputs": [],
   "source": [
    "data_length = df.shape[0]\n",
    "\n",
    "# Split the data\n",
    "split = int(data_length*0.75)"
   ]
  },
  {
   "cell_type": "code",
   "execution_count": 38,
   "metadata": {},
   "outputs": [],
   "source": [
    "# Train data set\n",
    "\n",
    "X_train = X[:split]\n",
    "Y_train = Y[:split]"
   ]
  },
  {
   "cell_type": "code",
   "execution_count": 39,
   "metadata": {},
   "outputs": [],
   "source": [
    "# Test data set\n",
    "\n",
    "X_test = X[split:]\n",
    "Y_test = Y[split:]"
   ]
  },
  {
   "cell_type": "code",
   "execution_count": 40,
   "metadata": {},
   "outputs": [],
   "source": [
    "# Fit the model\n",
    "cls = SVC().fit(X_train,Y_train)"
   ]
  },
  {
   "cell_type": "code",
   "execution_count": 41,
   "metadata": {},
   "outputs": [],
   "source": [
    "# Accuracy Results\n",
    "accuracy_train = accuracy_score(Y_train,cls.predict(X_train))\n",
    "accuracy_test = accuracy_score(Y_test, cls.predict(X_test))\n"
   ]
  },
  {
   "cell_type": "code",
   "execution_count": 42,
   "metadata": {},
   "outputs": [
    {
     "data": {
      "text/plain": [
       "0.5419847328244275"
      ]
     },
     "execution_count": 42,
     "metadata": {},
     "output_type": "execute_result"
    }
   ],
   "source": [
    "accuracy_test"
   ]
  },
  {
   "cell_type": "code",
   "execution_count": 43,
   "metadata": {},
   "outputs": [
    {
     "data": {
      "text/plain": [
       "0.5870858113848768"
      ]
     },
     "execution_count": 43,
     "metadata": {},
     "output_type": "execute_result"
    }
   ],
   "source": [
    "accuracy_train"
   ]
  },
  {
   "cell_type": "code",
   "execution_count": 44,
   "metadata": {},
   "outputs": [],
   "source": [
    "df[\"Predicted_Signal\"] = cls.predict(X)"
   ]
  },
  {
   "cell_type": "code",
   "execution_count": 45,
   "metadata": {},
   "outputs": [
    {
     "data": {
      "text/plain": [
       "Date\n",
       "2016-01-04    1\n",
       "2016-01-05   -1\n",
       "2016-01-06    1\n",
       "2016-01-07    1\n",
       "2016-01-08   -1\n",
       "             ..\n",
       "2022-01-06   -1\n",
       "2022-01-07    1\n",
       "2022-01-10    1\n",
       "2022-01-11    1\n",
       "2022-01-12    1\n",
       "Name: Predicted_Signal, Length: 1570, dtype: int32"
      ]
     },
     "execution_count": 45,
     "metadata": {},
     "output_type": "execute_result"
    }
   ],
   "source": [
    "df[\"Predicted_Signal\"]\n"
   ]
  },
  {
   "cell_type": "code",
   "execution_count": 52,
   "metadata": {},
   "outputs": [],
   "source": [
    "# The return accumulate of USDBRL\n",
    "\n",
    "df[\"Return_USDBRL\"] = np.log(df.Close.shift(-1)/df.Close)*100\n",
    "\n",
    "df[\"Return\"] = np.log(df.Close.shift(-1)/df.Close)*100\n",
    "df[\"Strategy_Return\"] = df.Return * df.Predicted_Signal"
   ]
  },
  {
   "cell_type": "code",
   "execution_count": 53,
   "metadata": {},
   "outputs": [
    {
     "name": "stdout",
     "output_type": "stream",
     "text": [
      "<class 'pandas.core.frame.DataFrame'>\n",
      "DatetimeIndex: 1569 entries, 2016-01-04 to 2022-01-11\n",
      "Data columns (total 14 columns):\n",
      " #   Column            Non-Null Count  Dtype  \n",
      "---  ------            --------------  -----  \n",
      " 0   Open              1569 non-null   float64\n",
      " 1   High              1569 non-null   float64\n",
      " 2   Low               1569 non-null   float64\n",
      " 3   Close             1569 non-null   float64\n",
      " 4   Adj Close         1569 non-null   float64\n",
      " 5   Volume            1569 non-null   int64  \n",
      " 6   Open-Close        1569 non-null   float64\n",
      " 7   High-Low          1569 non-null   float64\n",
      " 8   Retorno           1569 non-null   float64\n",
      " 9   Predicted_Signal  1569 non-null   int32  \n",
      " 10  Return_USD_BRL    1569 non-null   float64\n",
      " 11  Return            1568 non-null   float64\n",
      " 12  Strategy_Return   1568 non-null   float64\n",
      " 13  Return_USDBRL     1568 non-null   float64\n",
      "dtypes: float64(12), int32(1), int64(1)\n",
      "memory usage: 177.7 KB\n"
     ]
    }
   ],
   "source": [
    "df.info()"
   ]
  },
  {
   "cell_type": "code",
   "execution_count": 54,
   "metadata": {},
   "outputs": [],
   "source": [
    "df.dropna(inplace=True)"
   ]
  },
  {
   "cell_type": "code",
   "execution_count": 55,
   "metadata": {},
   "outputs": [
    {
     "data": {
      "image/png": "[encoded data removed]",
      "text/plain": [
       "<Figure size 720x360 with 1 Axes>"
      ]
     },
     "metadata": {
      "needs_background": "light"
     },
     "output_type": "display_data"
    }
   ],
   "source": [
    "# Strategy Return\n",
    "df.Strategy_Return.iloc[split:].cumsum().plot(figsize=(10,5))\n",
    "plt.ylabel(\"Strategy Returns (%)\")\n",
    "plt.show()"
   ]
  },
  {
   "cell_type": "code",
   "execution_count": 56,
   "metadata": {},
   "outputs": [
    {
     "data": {
      "text/plain": [
       "<AxesSubplot:xlabel='Date'>"
      ]
     },
     "execution_count": 56,
     "metadata": {},
     "output_type": "execute_result"
    },
    {
     "data": {
      "image/png": "[encoded data removed]",
      "text/plain": [
       "<Figure size 720x360 with 1 Axes>"
      ]
     },
     "metadata": {
      "needs_background": "light"
     },
     "output_type": "display_data"
    }
   ],
   "source": [
    "# USD/BRL Return\n",
    "\n",
    "df.Return_USDBRL.iloc[split:].cumsum().plot(figsize=(10,5))"
   ]
  },
  {
   "cell_type": "code",
   "execution_count": 57,
   "metadata": {},
   "outputs": [
    {
     "data": {
      "text/plain": [
       "Date\n",
       "2020-07-13    1.390728\n",
       "2020-07-14    0.746234\n",
       "2020-07-15    0.748997\n",
       "2020-07-16    0.071309\n",
       "2020-07-17    1.090359\n",
       "                ...   \n",
       "2022-01-04    6.351252\n",
       "2022-01-05    6.868484\n",
       "2022-01-06    6.460426\n",
       "2022-01-07    5.573063\n",
       "2022-01-10    6.104305\n",
       "Name: Return_USDBRL, Length: 391, dtype: float64"
      ]
     },
     "execution_count": 57,
     "metadata": {},
     "output_type": "execute_result"
    }
   ],
   "source": [
    "df.Return_USDBRL.iloc[split:].cumsum()"
   ]
  },
  {
   "cell_type": "code",
   "execution_count": 58,
   "metadata": {},
   "outputs": [
    {
     "data": {
      "text/plain": [
       "Date\n",
       "2020-07-13     1.390728\n",
       "2020-07-14     0.746234\n",
       "2020-07-15     0.748997\n",
       "2020-07-16     0.071309\n",
       "2020-07-17     1.090359\n",
       "                ...    \n",
       "2022-01-04    11.333548\n",
       "2022-01-05    11.850779\n",
       "2022-01-06    12.258837\n",
       "2022-01-07    11.371474\n",
       "2022-01-10    11.902716\n",
       "Name: Strategy_Return, Length: 391, dtype: float64"
      ]
     },
     "execution_count": 58,
     "metadata": {},
     "output_type": "execute_result"
    }
   ],
   "source": [
    "df.Strategy_Return.iloc[split:].cumsum()"
   ]
  }
 ],
 "metadata": {
  "kernelspec": {
   "display_name": "Python 3",
   "language": "python",
   "name": "python3"
  },
  "language_info": {
   "codemirror_mode": {
    "name": "ipython",
    "version": 3
   },
   "file_extension": ".py",
   "mimetype": "text/x-python",
   "name": "python",
   "nbconvert_exporter": "python",
   "pygments_lexer": "ipython3",
   "version": "3.8.8"
  }
 },
 "nbformat": 4,
 "nbformat_minor": 2
}
